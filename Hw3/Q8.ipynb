{
 "cells": [
  {
   "cell_type": "code",
   "execution_count": null,
   "metadata": {},
   "outputs": [],
   "source": [
    "#import libs for wroking with pictures and getting the histogram of it\n",
    "import numpy as np\n",
    "import cv2\n",
    "import matplotlib.pyplot as plt\n",
    "import matplotlib.image as mpimg\n",
    "\n",
    "#read the image\n",
    "#load the image from images folder\n",
    "img = cv2.imread('images/1.jpg',0)\n",
    "\n",
    "#display it\n",
    "plt.imshow(img, cmap = 'gray')"
   ]
  }
 ],
 "metadata": {
  "language_info": {
   "name": "python"
  },
  "orig_nbformat": 4
 },
 "nbformat": 4,
 "nbformat_minor": 2
}
